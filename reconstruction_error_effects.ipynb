{
 "cells": [
  {
   "cell_type": "markdown",
   "metadata": {},
   "source": [
    "# Reconstruction error effects\n",
    "\n",
    "Using the cumulative effects of reconstruction errors for predicting web text as a metric for SAE quality."
   ]
  },
  {
   "cell_type": "code",
   "execution_count": 1,
   "metadata": {},
   "outputs": [],
   "source": [
    "import io\n",
    "import json\n",
    "from zstandard import ZstdDecompressor\n",
    "\n",
    "import numpy as np\n",
    "import matplotlib.pyplot as plt\n",
    "\n",
    "import torch as t\n",
    "import torch.nn.functional as F\n",
    "from nnsight import LanguageModel\n",
    "\n",
    "import sys\n",
    "sys.path.append('..')\n",
    "from dictionary_learning import AutoEncoder\n",
    "from dictionary_circuits.attribution import patching_effect"
   ]
  },
  {
   "cell_type": "code",
   "execution_count": 2,
   "metadata": {},
   "outputs": [],
   "source": [
    "DEVICE = \"cuda:0\"\n",
    "DEBUGGING = True\n",
    "D_MODEL = 512\n",
    "D_SAE = 32768\n",
    "DICT_ID = 5\n",
    "DICT_PATH = \"/share/projects/dictionary_circuits/autoencoders\"\n",
    "BATCH_SIZE = 32\n",
    "CTX_LEN = 16\n",
    "\n",
    "if DEBUGGING:\n",
    "    tracer_kwargs = {'validate' : True, 'scan' : True}\n",
    "else:\n",
    "    tracer_kwargs = {'validate' : False, 'scan' : False}"
   ]
  },
  {
   "cell_type": "code",
   "execution_count": 3,
   "metadata": {},
   "outputs": [
    {
     "name": "stderr",
     "output_type": "stream",
     "text": [
      "You're using a GPTNeoXTokenizerFast tokenizer. Please note that with a fast tokenizer, using the `__call__` method is faster than using a method to encode the text followed by a call to the `pad` method to get a padded encoding.\n"
     ]
    }
   ],
   "source": [
    "# Load model\n",
    "model = LanguageModel(\n",
    "    \"EleutherAI/pythia-70m-deduped\",\n",
    "    device_map = DEVICE,\n",
    "    dispatch = True,\n",
    ")\n",
    "\n",
    "# Load submodules and dictionaries\n",
    "# embed = model.gpt_neox.embed_in\n",
    "attns = [layer.attention for layer in model.gpt_neox.layers]\n",
    "mlps = [layer.mlp for layer in model.gpt_neox.layers]\n",
    "resids = [layer for layer in model.gpt_neox.layers]\n",
    "submodules = attns + mlps + resids# + [embed]\n",
    "\n",
    "dictionaries = {}\n",
    "submodule_to_name = {}\n",
    "# ae = AutoEncoder(D_MODEL, D_SAE).to(DEVICE)\n",
    "# ae.load_state_dict(t.load(f'{DICT_PATH}/pythia-70m-deduped/embed/{DICT_ID}_{D_SAE}/ae.pt'))\n",
    "# dictionaries[embed] = ae\n",
    "# submodule_to_name[embed] = 'embed'\n",
    "for i in range(len(model.gpt_neox.layers)):\n",
    "    ae = AutoEncoder(D_MODEL, D_SAE).to(DEVICE)\n",
    "    ae.load_state_dict(t.load(f'{DICT_PATH}/pythia-70m-deduped/attn_out_layer{i}/{DICT_ID}_{D_SAE}/ae.pt'))\n",
    "    dictionaries[attns[i]] = ae\n",
    "    submodule_to_name[attns[i]] = f'attn{i}'\n",
    "\n",
    "    ae = AutoEncoder(D_MODEL, D_SAE).to(DEVICE)\n",
    "    ae.load_state_dict(t.load(f'{DICT_PATH}/pythia-70m-deduped/mlp_out_layer{i}/{DICT_ID}_{D_SAE}/ae.pt'))\n",
    "    dictionaries[mlps[i]] = ae\n",
    "    submodule_to_name[mlps[i]] = f'mlp{i}'\n",
    "\n",
    "    ae = AutoEncoder(D_MODEL, D_SAE).to(DEVICE)\n",
    "    ae.load_state_dict(t.load(f'{DICT_PATH}/pythia-70m-deduped/resid_out_layer{i}/{DICT_ID}_{D_SAE}/ae.pt'))\n",
    "    dictionaries[resids[i]] = ae\n",
    "    submodule_to_name[resids[i]] = f'resid{i}'\n",
    "\n",
    "name_to_submodule = {v: k for k, v in submodule_to_name.items()}\n",
    "\n",
    "# Run through a test input to figure out which hidden states are tuples\n",
    "is_tuple = {}\n",
    "with model.trace(\"_\"):\n",
    "    for submodule in submodules:\n",
    "        is_tuple[submodule] = type(submodule.output.shape) == tuple"
   ]
  },
  {
   "cell_type": "code",
   "execution_count": 4,
   "metadata": {},
   "outputs": [],
   "source": [
    "# Loading pile dataset\n",
    "\n",
    "# Load data from the pile\n",
    "data_path = '/share/data/datasets/pile/the-eye.eu/public/AI/pile/train/00.jsonl.zst'\n",
    "compressed_file = open(data_path, 'rb')\n",
    "dctx = ZstdDecompressor()\n",
    "reader = dctx.stream_reader(compressed_file)\n",
    "text_stream = io.TextIOWrapper(reader, encoding='utf-8')\n",
    "\n",
    "def generator():\n",
    "    for line in text_stream:\n",
    "        yield json.loads(line)['text']\n",
    "data_generator = generator()\n",
    "\n",
    "def tokenized_batch(generator, batch_size, ctx_len):\n",
    "    try:\n",
    "        texts = [next(generator) for _ in range(batch_size)]\n",
    "    except StopIteration:\n",
    "        raise StopIteration(\"End of data stream reached\")\n",
    "    \n",
    "    return model.tokenizer(\n",
    "        texts,\n",
    "        return_tensors='pt',\n",
    "        max_length=ctx_len,\n",
    "        truncation=True,\n",
    "        padding=True\n",
    "        )\n",
    "\n",
    "input_batch = tokenized_batch(data_generator, BATCH_SIZE, CTX_LEN)\n",
    "\n",
    "# buffer = ActivationBuffer(\n",
    "#     data,\n",
    "#     model,\n",
    "#     submodule,\n",
    "#     submodule_input_dim=D_MODEL,\n",
    "#     submodule_output_dim=D_SAE, # output dimension of the model component\n",
    "#     n_ctxs=1e4, # you can set this higher or lower dependong on your available memory\n",
    "#     ctx_len=128,\n",
    "#     io='out', # buffer will return batches of tensors of dimension = submodule's output dimension\n",
    "#     device='cuda:0' # doesn't have to be the same device that you train your autoencoder on\n",
    "# ) # buffer will return batches of tensors of dimension = submodule's output dimension"
   ]
  },
  {
   "cell_type": "code",
   "execution_count": 5,
   "metadata": {},
   "outputs": [],
   "source": [
    "def compute_effects(tokenized_batch):\n",
    "    # Define input and answers\n",
    "    contexts = tokenized_batch['input_ids'][:-1].to(DEVICE)\n",
    "    answers = tokenized_batch['input_ids'][1:].to(DEVICE)\n",
    "\n",
    "    def logprob_true(model):\n",
    "        return F.log_softmax(model.embed_out.output, dim=-1).gather(-1, answers.unsqueeze(-1)).squeeze(-1)\n",
    "        \n",
    "    effects, deltas, grads, total_effect = patching_effect(\n",
    "        clean=contexts,\n",
    "        patch=None,\n",
    "        model=model,\n",
    "        submodules=submodules,\n",
    "        dictionaries=dictionaries,\n",
    "        metric_fn=logprob_true,\n",
    "        method='ig',\n",
    "    )\n",
    "\n",
    "    return effects"
   ]
  },
  {
   "cell_type": "code",
   "execution_count": 6,
   "metadata": {},
   "outputs": [
    {
     "name": "stdout",
     "output_type": "stream",
     "text": [
      "Total error effects: 6408.4892578125\n"
     ]
    },
    {
     "data": {
      "text/plain": [
       "tensor(12.5166, device='cuda:0')"
      ]
     },
     "execution_count": 6,
     "metadata": {},
     "output_type": "execute_result"
    }
   ],
   "source": [
    "batch_effects = compute_effects(input_batch)\n",
    "\n",
    "cumulative_error_effects = 0\n",
    "for submodule in submodules:\n",
    "    cumulative_error_effects += batch_effects[submodule].resc.abs().sum()\n",
    "\n",
    "print(f\"Total error effects: {cumulative_error_effects}\")\n",
    "sum_eff_per_token = cumulative_error_effects / (BATCH_SIZE * CTX_LEN)\n",
    "sum_eff_per_token"
   ]
  },
  {
   "cell_type": "code",
   "execution_count": 7,
   "metadata": {},
   "outputs": [
    {
     "data": {
      "image/png": "[encoded data removed]",
      "text/plain": [
       "<Figure size 640x480 with 1 Axes>"
      ]
     },
     "metadata": {},
     "output_type": "display_data"
    }
   ],
   "source": [
    "# Bar plot over the error effects\n",
    "submodule_labels = [v for v in submodule_to_name.values()]\n",
    "submodule_effects = [batch_effects[submodule].resc.abs().sum().item() for submodule in submodules]\n",
    "# Normalize to error per token\n",
    "n_tokens = BATCH_SIZE * CTX_LEN\n",
    "submodule_effects = np.array(submodule_effects) / n_tokens\n",
    "\n",
    "plt.bar(submodule_labels, submodule_effects)\n",
    "plt.xticks(rotation=90)\n",
    "plt.ylabel('Error effects')\n",
    "plt.title(f'Mean absolute error effects per token\\n (sum over submodules = {sum_eff_per_token:.2f}, dict_id = {DICT_ID})');"
   ]
  },
  {
   "cell_type": "code",
   "execution_count": null,
   "metadata": {},
   "outputs": [],
   "source": []
  }
 ],
 "metadata": {
  "kernelspec": {
   "display_name": "Python 3",
   "language": "python",
   "name": "python3"
  },
  "language_info": {
   "codemirror_mode": {
    "name": "ipython",
    "version": 3
   },
   "file_extension": ".py",
   "mimetype": "text/x-python",
   "name": "python",
   "nbconvert_exporter": "python",
   "pygments_lexer": "ipython3",
   "version": "3.11.8"
  }
 },
 "nbformat": 4,
 "nbformat_minor": 2
}
